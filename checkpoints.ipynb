{
 "cells": [
  {
   "cell_type": "code",
   "execution_count": 32,
   "metadata": {
    "collapsed": true
   },
   "outputs": [],
   "source": [
    "import pandas as pd"
   ]
  },
  {
   "cell_type": "code",
   "execution_count": 33,
   "outputs": [],
   "source": [
    "check1 = pd.read_csv('checkpoint-100000.csv')"
   ],
   "metadata": {
    "collapsed": false
   }
  },
  {
   "cell_type": "code",
   "execution_count": 34,
   "outputs": [
    {
     "data": {
      "text/plain": "0.00432564330079858"
     },
     "execution_count": 34,
     "metadata": {},
     "output_type": "execute_result"
    }
   ],
   "source": [
    "# get the share of pairs pattern-tuple, where among top-5 answers there is a correct one\n",
    "corrects_ru = check1.groupby(['pattern_ind', 'tuple_ind', 'pattern', 'sub_label', 'obj_label'])['pred_token'].apply(list).reset_index()\\\n",
    "            .apply(lambda x: any(y==x['obj_label'] for y in x['pred_token']), axis=1)\n",
    "corrects_ru.sum()/corrects_ru.count()"
   ],
   "metadata": {
    "collapsed": false
   }
  },
  {
   "cell_type": "code",
   "execution_count": 35,
   "outputs": [
    {
     "data": {
      "text/plain": "pattern\n[Y] - столица [X]            12\n[Y], столица [X]              9\n[Y] является столицей [X]     6\n[X] столица, [Y]              5\nстолица [X] - [Y]             4\n[Y], то есть столица [X]      2\nстолица [X] [Y]               1\nName: pred_token, dtype: int64"
     },
     "execution_count": 35,
     "metadata": {},
     "output_type": "execute_result"
    }
   ],
   "source": [
    "corrects_ru_set = check1.groupby(['pattern_ind', 'tuple_ind', 'pattern', 'sub_label', 'obj_label'])['pred_token'].apply(list).reset_index()[corrects_ru]\n",
    "corrects_ru_set.groupby(['pattern'])['pred_token'].count().sort_values(ascending=False)"
   ],
   "metadata": {
    "collapsed": false
   }
  },
  {
   "cell_type": "code",
   "execution_count": 36,
   "outputs": [
    {
     "data": {
      "text/plain": "       pattern_ind                                 pattern\n0                0               [Y] является столицей [X]\n3220             1                        [X] столица, [Y]\n6440             2                         столица [X] [Y]\n9660             3                [Y], то есть столица [X]\n12880            4                    [Y], это столица [X]\n16100            5                        [Y], столица [X]\n19320            6                       столица [X] - [Y]\n22540            7                        капитал [X], [Y]\n25760            8          [X], который имеет столицу [Y]\n28980            9               заглавная буква [X] - [Y]\n32200           10                       столица [X] - [Y]\n35420           11                       капитал [X] - [Y]\n38640           12                       [Y] - столица [X]\n41860           13  [X], который имеет заглавную букву [Y]",
      "text/html": "<div>\n<style scoped>\n    .dataframe tbody tr th:only-of-type {\n        vertical-align: middle;\n    }\n\n    .dataframe tbody tr th {\n        vertical-align: top;\n    }\n\n    .dataframe thead th {\n        text-align: right;\n    }\n</style>\n<table border=\"1\" class=\"dataframe\">\n  <thead>\n    <tr style=\"text-align: right;\">\n      <th></th>\n      <th>pattern_ind</th>\n      <th>pattern</th>\n    </tr>\n  </thead>\n  <tbody>\n    <tr>\n      <th>0</th>\n      <td>0</td>\n      <td>[Y] является столицей [X]</td>\n    </tr>\n    <tr>\n      <th>3220</th>\n      <td>1</td>\n      <td>[X] столица, [Y]</td>\n    </tr>\n    <tr>\n      <th>6440</th>\n      <td>2</td>\n      <td>столица [X] [Y]</td>\n    </tr>\n    <tr>\n      <th>9660</th>\n      <td>3</td>\n      <td>[Y], то есть столица [X]</td>\n    </tr>\n    <tr>\n      <th>12880</th>\n      <td>4</td>\n      <td>[Y], это столица [X]</td>\n    </tr>\n    <tr>\n      <th>16100</th>\n      <td>5</td>\n      <td>[Y], столица [X]</td>\n    </tr>\n    <tr>\n      <th>19320</th>\n      <td>6</td>\n      <td>столица [X] - [Y]</td>\n    </tr>\n    <tr>\n      <th>22540</th>\n      <td>7</td>\n      <td>капитал [X], [Y]</td>\n    </tr>\n    <tr>\n      <th>25760</th>\n      <td>8</td>\n      <td>[X], который имеет столицу [Y]</td>\n    </tr>\n    <tr>\n      <th>28980</th>\n      <td>9</td>\n      <td>заглавная буква [X] - [Y]</td>\n    </tr>\n    <tr>\n      <th>32200</th>\n      <td>10</td>\n      <td>столица [X] - [Y]</td>\n    </tr>\n    <tr>\n      <th>35420</th>\n      <td>11</td>\n      <td>капитал [X] - [Y]</td>\n    </tr>\n    <tr>\n      <th>38640</th>\n      <td>12</td>\n      <td>[Y] - столица [X]</td>\n    </tr>\n    <tr>\n      <th>41860</th>\n      <td>13</td>\n      <td>[X], который имеет заглавную букву [Y]</td>\n    </tr>\n  </tbody>\n</table>\n</div>"
     },
     "execution_count": 36,
     "metadata": {},
     "output_type": "execute_result"
    }
   ],
   "source": [
    "ru_bad = [1, 2, 7, 8, 9, 11, 13, 10]\n",
    "check1[['pattern_ind', 'pattern']].drop_duplicates()"
   ],
   "metadata": {
    "collapsed": false
   }
  },
  {
   "cell_type": "code",
   "execution_count": 37,
   "outputs": [],
   "source": [
    "new_corrects_ru_set = corrects_ru_set[~corrects_ru_set['pattern_ind'].isin(ru_bad)]\n",
    "new_ru = check1[~check1['pattern_ind'].isin(ru_bad)]"
   ],
   "metadata": {
    "collapsed": false
   }
  },
  {
   "cell_type": "code",
   "execution_count": 38,
   "outputs": [
    {
     "data": {
      "text/plain": "0.008022774327122154"
     },
     "execution_count": 38,
     "metadata": {},
     "output_type": "execute_result"
    }
   ],
   "source": [
    "new_corrects_ru = new_ru.groupby(['pattern_ind', 'tuple_ind', 'pattern', 'sub_label', 'obj_label'])['pred_token'].apply(list).reset_index()\\\n",
    "            .apply(lambda x: any(y==x['obj_label'] for y in x['pred_token']), axis=1)\n",
    "new_corrects_ru.sum()/new_corrects_ru.count()"
   ],
   "metadata": {
    "collapsed": false
   }
  },
  {
   "cell_type": "code",
   "execution_count": 24,
   "outputs": [
    {
     "data": {
      "text/plain": "                                     masked pred_token\n0      [MASK] является столицей Азербайджан       Крым\n1      [MASK] является столицей Азербайджан        Это\n2      [MASK] является столицей Азербайджан     Россия\n3      [MASK] является столицей Азербайджан       Киев\n4      [MASK] является столицей Азербайджан    Украина\n...                                     ...        ...\n41855             [MASK] - столица Фландрия        Это\n41856             [MASK] - столица Фландрия      Город\n41857             [MASK] - столица Фландрия     Москва\n41858             [MASK] - столица Фландрия     Русско\n41859             [MASK] - столица Фландрия     Погода\n\n[19320 rows x 2 columns]",
      "text/html": "<div>\n<style scoped>\n    .dataframe tbody tr th:only-of-type {\n        vertical-align: middle;\n    }\n\n    .dataframe tbody tr th {\n        vertical-align: top;\n    }\n\n    .dataframe thead th {\n        text-align: right;\n    }\n</style>\n<table border=\"1\" class=\"dataframe\">\n  <thead>\n    <tr style=\"text-align: right;\">\n      <th></th>\n      <th>masked</th>\n      <th>pred_token</th>\n    </tr>\n  </thead>\n  <tbody>\n    <tr>\n      <th>0</th>\n      <td>[MASK] является столицей Азербайджан</td>\n      <td>Крым</td>\n    </tr>\n    <tr>\n      <th>1</th>\n      <td>[MASK] является столицей Азербайджан</td>\n      <td>Это</td>\n    </tr>\n    <tr>\n      <th>2</th>\n      <td>[MASK] является столицей Азербайджан</td>\n      <td>Россия</td>\n    </tr>\n    <tr>\n      <th>3</th>\n      <td>[MASK] является столицей Азербайджан</td>\n      <td>Киев</td>\n    </tr>\n    <tr>\n      <th>4</th>\n      <td>[MASK] является столицей Азербайджан</td>\n      <td>Украина</td>\n    </tr>\n    <tr>\n      <th>...</th>\n      <td>...</td>\n      <td>...</td>\n    </tr>\n    <tr>\n      <th>41855</th>\n      <td>[MASK] - столица Фландрия</td>\n      <td>Это</td>\n    </tr>\n    <tr>\n      <th>41856</th>\n      <td>[MASK] - столица Фландрия</td>\n      <td>Город</td>\n    </tr>\n    <tr>\n      <th>41857</th>\n      <td>[MASK] - столица Фландрия</td>\n      <td>Москва</td>\n    </tr>\n    <tr>\n      <th>41858</th>\n      <td>[MASK] - столица Фландрия</td>\n      <td>Русско</td>\n    </tr>\n    <tr>\n      <th>41859</th>\n      <td>[MASK] - столица Фландрия</td>\n      <td>Погода</td>\n    </tr>\n  </tbody>\n</table>\n<p>19320 rows × 2 columns</p>\n</div>"
     },
     "execution_count": 24,
     "metadata": {},
     "output_type": "execute_result"
    }
   ],
   "source": [
    "df_new = new_ru.iloc [:, [9,11]]\n",
    "df_new"
   ],
   "metadata": {
    "collapsed": false
   }
  },
  {
   "cell_type": "code",
   "execution_count": 45,
   "outputs": [
    {
     "data": {
      "text/plain": "obj_label\nАрма               0.833333\nМосква             0.666667\nКиев               0.500000\nИерусалим          0.458333\nСантьяго           0.333333\nПорту              0.333333\nБрест              0.333333\nОдесса             0.333333\nМайами             0.333333\nТегеран            0.277778\nМилан              0.277778\nАлжир              0.222222\nМюнхен             0.222222\nТриполи            0.208333\nКонстантина        0.166667\nКонстантинополь    0.166667\nБагдад             0.166667\nСага               0.166667\nРим                0.166667\nКазань             0.166667\nОстин              0.166667\nМинск              0.166667\nГлазго             0.166667\nЛиссабон           0.111111\nАнкара             0.111111\nКабул              0.095238\nПариж              0.083333\nПрага              0.083333\nЛьвов              0.083333\nЛинкольн           0.083333\nБудапешт           0.066667\nТокио              0.055556\nБерлин             0.041667\nБаку               0.041667\nБрюссель           0.023810\ndtype: float64"
     },
     "execution_count": 45,
     "metadata": {},
     "output_type": "execute_result"
    }
   ],
   "source": [
    "# города, которые мы чаще всего угадывали, и доля угаданных случаев, от всех, где этот город является объектом\n",
    "new_corrects_ru_set.groupby(['obj_label'])['pred_token'].count().reset_index()\\\n",
    "    .merge(new_ru[~new_ru['pattern_ind'].isin(ru_bad)].groupby(['obj_label'])['pred_token'].count().reset_index(), on='obj_label', how='inner')\\\n",
    "    .set_index('obj_label')\\\n",
    "    .apply(lambda x: 1.0*x['pred_token_x']/x['pred_token_y']*5, axis=1).sort_values(ascending=False)"
   ],
   "metadata": {
    "collapsed": false
   }
  },
  {
   "cell_type": "code",
   "execution_count": 48,
   "outputs": [],
   "source": [
    "check2 = pd.read_csv('checkpoint-1000000.csv')"
   ],
   "metadata": {
    "collapsed": false
   }
  },
  {
   "cell_type": "code",
   "execution_count": 49,
   "outputs": [
    {
     "data": {
      "text/plain": "0.017413487133984027"
     },
     "execution_count": 49,
     "metadata": {},
     "output_type": "execute_result"
    }
   ],
   "source": [
    "corrects_ru = check2.groupby(['pattern_ind', 'tuple_ind', 'pattern', 'sub_label', 'obj_label'])['pred_token'].apply(list).reset_index()\\\n",
    "            .apply(lambda x: any(y==x['obj_label'] for y in x['pred_token']), axis=1)\n",
    "corrects_ru.sum()/corrects_ru.count()"
   ],
   "metadata": {
    "collapsed": false
   }
  },
  {
   "cell_type": "code",
   "execution_count": 50,
   "outputs": [
    {
     "data": {
      "text/plain": "pattern\n[Y] - столица [X]            50\n[Y] является столицей [X]    35\n[Y], столица [X]             29\n[Y], это столица [X]         24\n[Y], то есть столица [X]     17\n[X] столица, [Y]              2\nName: pred_token, dtype: int64"
     },
     "execution_count": 50,
     "metadata": {},
     "output_type": "execute_result"
    }
   ],
   "source": [
    "corrects_ru_set = check2.groupby(['pattern_ind', 'tuple_ind', 'pattern', 'sub_label', 'obj_label'])['pred_token'].apply(list).reset_index()[corrects_ru]\n",
    "corrects_ru_set.groupby(['pattern'])['pred_token'].count().sort_values(ascending=False)"
   ],
   "metadata": {
    "collapsed": false
   }
  },
  {
   "cell_type": "code",
   "execution_count": 51,
   "outputs": [
    {
     "data": {
      "text/plain": "       pattern_ind                                 pattern\n0                0               [Y] является столицей [X]\n3220             1                        [X] столица, [Y]\n6440             2                         столица [X] [Y]\n9660             3                [Y], то есть столица [X]\n12880            4                    [Y], это столица [X]\n16100            5                        [Y], столица [X]\n19320            6                       столица [X] - [Y]\n22540            7                        капитал [X], [Y]\n25760            8          [X], который имеет столицу [Y]\n28980            9               заглавная буква [X] - [Y]\n32200           10                       столица [X] - [Y]\n35420           11                       капитал [X] - [Y]\n38640           12                       [Y] - столица [X]\n41860           13  [X], который имеет заглавную букву [Y]",
      "text/html": "<div>\n<style scoped>\n    .dataframe tbody tr th:only-of-type {\n        vertical-align: middle;\n    }\n\n    .dataframe tbody tr th {\n        vertical-align: top;\n    }\n\n    .dataframe thead th {\n        text-align: right;\n    }\n</style>\n<table border=\"1\" class=\"dataframe\">\n  <thead>\n    <tr style=\"text-align: right;\">\n      <th></th>\n      <th>pattern_ind</th>\n      <th>pattern</th>\n    </tr>\n  </thead>\n  <tbody>\n    <tr>\n      <th>0</th>\n      <td>0</td>\n      <td>[Y] является столицей [X]</td>\n    </tr>\n    <tr>\n      <th>3220</th>\n      <td>1</td>\n      <td>[X] столица, [Y]</td>\n    </tr>\n    <tr>\n      <th>6440</th>\n      <td>2</td>\n      <td>столица [X] [Y]</td>\n    </tr>\n    <tr>\n      <th>9660</th>\n      <td>3</td>\n      <td>[Y], то есть столица [X]</td>\n    </tr>\n    <tr>\n      <th>12880</th>\n      <td>4</td>\n      <td>[Y], это столица [X]</td>\n    </tr>\n    <tr>\n      <th>16100</th>\n      <td>5</td>\n      <td>[Y], столица [X]</td>\n    </tr>\n    <tr>\n      <th>19320</th>\n      <td>6</td>\n      <td>столица [X] - [Y]</td>\n    </tr>\n    <tr>\n      <th>22540</th>\n      <td>7</td>\n      <td>капитал [X], [Y]</td>\n    </tr>\n    <tr>\n      <th>25760</th>\n      <td>8</td>\n      <td>[X], который имеет столицу [Y]</td>\n    </tr>\n    <tr>\n      <th>28980</th>\n      <td>9</td>\n      <td>заглавная буква [X] - [Y]</td>\n    </tr>\n    <tr>\n      <th>32200</th>\n      <td>10</td>\n      <td>столица [X] - [Y]</td>\n    </tr>\n    <tr>\n      <th>35420</th>\n      <td>11</td>\n      <td>капитал [X] - [Y]</td>\n    </tr>\n    <tr>\n      <th>38640</th>\n      <td>12</td>\n      <td>[Y] - столица [X]</td>\n    </tr>\n    <tr>\n      <th>41860</th>\n      <td>13</td>\n      <td>[X], который имеет заглавную букву [Y]</td>\n    </tr>\n  </tbody>\n</table>\n</div>"
     },
     "execution_count": 51,
     "metadata": {},
     "output_type": "execute_result"
    }
   ],
   "source": [
    "ru_bad = [1, 2, 7, 8, 9, 11, 13, 10]\n",
    "check2[['pattern_ind', 'pattern']].drop_duplicates()"
   ],
   "metadata": {
    "collapsed": false
   }
  },
  {
   "cell_type": "code",
   "execution_count": 52,
   "outputs": [],
   "source": [
    "new_corrects_ru_set = corrects_ru_set[~corrects_ru_set['pattern_ind'].isin(ru_bad)]\n",
    "new_ru = check2[~check2['pattern_ind'].isin(ru_bad)]"
   ],
   "metadata": {
    "collapsed": false
   }
  },
  {
   "cell_type": "code",
   "execution_count": 53,
   "outputs": [
    {
     "data": {
      "text/plain": "0.04011387163561077"
     },
     "execution_count": 53,
     "metadata": {},
     "output_type": "execute_result"
    }
   ],
   "source": [
    "new_corrects_ru = new_ru.groupby(['pattern_ind', 'tuple_ind', 'pattern', 'sub_label', 'obj_label'])['pred_token'].apply(list).reset_index()\\\n",
    "            .apply(lambda x: any(y==x['obj_label'] for y in x['pred_token']), axis=1)\n",
    "new_corrects_ru.sum()/new_corrects_ru.count()"
   ],
   "metadata": {
    "collapsed": false
   }
  },
  {
   "cell_type": "code",
   "execution_count": 58,
   "outputs": [
    {
     "data": {
      "text/plain": "                                     masked   pred_token obj_label\n0      [MASK] является столицей Азербайджан  Азербайджан      Баку\n1      [MASK] является столицей Азербайджан      Армения      Баку\n2      [MASK] является столицей Азербайджан         Иран      Баку\n3      [MASK] является столицей Азербайджан  Жириновский      Баку\n4      [MASK] является столицей Азербайджан         ЛДПР      Баку\n...                                     ...          ...       ...\n41855             [MASK] - столица Фландрия      Франция  Брюссель\n41856             [MASK] - столица Фландрия      Испания  Брюссель\n41857             [MASK] - столица Фландрия          Это  Брюссель\n41858             [MASK] - столица Фландрия            Я  Брюссель\n41859             [MASK] - столица Фландрия          Она  Брюссель\n\n[19320 rows x 3 columns]",
      "text/html": "<div>\n<style scoped>\n    .dataframe tbody tr th:only-of-type {\n        vertical-align: middle;\n    }\n\n    .dataframe tbody tr th {\n        vertical-align: top;\n    }\n\n    .dataframe thead th {\n        text-align: right;\n    }\n</style>\n<table border=\"1\" class=\"dataframe\">\n  <thead>\n    <tr style=\"text-align: right;\">\n      <th></th>\n      <th>masked</th>\n      <th>pred_token</th>\n      <th>obj_label</th>\n    </tr>\n  </thead>\n  <tbody>\n    <tr>\n      <th>0</th>\n      <td>[MASK] является столицей Азербайджан</td>\n      <td>Азербайджан</td>\n      <td>Баку</td>\n    </tr>\n    <tr>\n      <th>1</th>\n      <td>[MASK] является столицей Азербайджан</td>\n      <td>Армения</td>\n      <td>Баку</td>\n    </tr>\n    <tr>\n      <th>2</th>\n      <td>[MASK] является столицей Азербайджан</td>\n      <td>Иран</td>\n      <td>Баку</td>\n    </tr>\n    <tr>\n      <th>3</th>\n      <td>[MASK] является столицей Азербайджан</td>\n      <td>Жириновский</td>\n      <td>Баку</td>\n    </tr>\n    <tr>\n      <th>4</th>\n      <td>[MASK] является столицей Азербайджан</td>\n      <td>ЛДПР</td>\n      <td>Баку</td>\n    </tr>\n    <tr>\n      <th>...</th>\n      <td>...</td>\n      <td>...</td>\n      <td>...</td>\n    </tr>\n    <tr>\n      <th>41855</th>\n      <td>[MASK] - столица Фландрия</td>\n      <td>Франция</td>\n      <td>Брюссель</td>\n    </tr>\n    <tr>\n      <th>41856</th>\n      <td>[MASK] - столица Фландрия</td>\n      <td>Испания</td>\n      <td>Брюссель</td>\n    </tr>\n    <tr>\n      <th>41857</th>\n      <td>[MASK] - столица Фландрия</td>\n      <td>Это</td>\n      <td>Брюссель</td>\n    </tr>\n    <tr>\n      <th>41858</th>\n      <td>[MASK] - столица Фландрия</td>\n      <td>Я</td>\n      <td>Брюссель</td>\n    </tr>\n    <tr>\n      <th>41859</th>\n      <td>[MASK] - столица Фландрия</td>\n      <td>Она</td>\n      <td>Брюссель</td>\n    </tr>\n  </tbody>\n</table>\n<p>19320 rows × 3 columns</p>\n</div>"
     },
     "execution_count": 58,
     "metadata": {},
     "output_type": "execute_result"
    }
   ],
   "source": [
    "df_new = new_ru.iloc [:, [9,11,6]]\n",
    "df_new\n"
   ],
   "metadata": {
    "collapsed": false
   }
  },
  {
   "cell_type": "code",
   "execution_count": 56,
   "outputs": [
    {
     "data": {
      "text/plain": "obj_label\nАрма               0.833333\nМосква             0.666667\nКиев               0.500000\nИерусалим          0.458333\nСантьяго           0.333333\nПорту              0.333333\nБрест              0.333333\nОдесса             0.333333\nМайами             0.333333\nТегеран            0.277778\nМилан              0.277778\nАлжир              0.222222\nМюнхен             0.222222\nТриполи            0.208333\nКонстантина        0.166667\nКонстантинополь    0.166667\nБагдад             0.166667\nСага               0.166667\nРим                0.166667\nКазань             0.166667\nОстин              0.166667\nМинск              0.166667\nГлазго             0.166667\nЛиссабон           0.111111\nАнкара             0.111111\nКабул              0.095238\nПариж              0.083333\nПрага              0.083333\nЛьвов              0.083333\nЛинкольн           0.083333\nБудапешт           0.066667\nТокио              0.055556\nБерлин             0.041667\nБаку               0.041667\nБрюссель           0.023810\ndtype: float64"
     },
     "execution_count": 56,
     "metadata": {},
     "output_type": "execute_result"
    }
   ],
   "source": [
    "# города, которые мы чаще всего угадывали, и доля угаданных случаев, от всех, где этот город является объектом\n",
    "new_corrects_ru_set.groupby(['obj_label'])['pred_token'].count().reset_index().merge(\n",
    "    new_ru[~new_ru['pattern_ind'].isin(ru_bad)].groupby(['obj_label'])['pred_token'].count().reset_index(),\n",
    "    on='obj_label', how='inner').set_index('obj_label').apply(lambda x: 1.0 * x['pred_token_x'] / x['pred_token_y'] * 5,\n",
    "                                                              axis=1).sort_values(ascending=False)"
   ],
   "metadata": {
    "collapsed": false
   }
  },
  {
   "cell_type": "code",
   "execution_count": 57,
   "outputs": [
    {
     "data": {
      "text/plain": "0.04011387163561077"
     },
     "execution_count": 57,
     "metadata": {},
     "output_type": "execute_result"
    }
   ],
   "source": [
    "new_corrects_ru = new_ru.groupby(['pattern_ind', 'tuple_ind', 'pattern', 'sub_label', 'obj_label'])['pred_token'].apply(list).reset_index()\\\n",
    "            .apply(lambda x: any(y==x['obj_label'] for y in x['pred_token']), axis=1)\n",
    "new_corrects_ru.sum()/new_corrects_ru.count()"
   ],
   "metadata": {
    "collapsed": false
   }
  },
  {
   "cell_type": "code",
   "execution_count": null,
   "outputs": [],
   "source": [
    "# города, которые мы чаще всего угадывали, и доля угаданных случаев, от всех, где этот город является объектом\n",
    "new_corrects_ru_set.groupby(['obj_label'])['pred_token'].count().reset_index().merge(\n",
    "    new_ru[~new_ru['pattern_ind'].isin(ru_bad)].groupby(['obj_label'])['pred_token'].count().reset_index(),\n",
    "    on='obj_label', how='inner').set_index('obj_label').apply(lambda x: 1.0 * x['pred_token_x'] / x['pred_token_y'] * 5,\n",
    "                                                              axis=1).sort_values(ascending=False)"
   ],
   "metadata": {
    "collapsed": false
   }
  }
 ],
 "metadata": {
  "kernelspec": {
   "display_name": "Python 3",
   "language": "python",
   "name": "python3"
  },
  "language_info": {
   "codemirror_mode": {
    "name": "ipython",
    "version": 2
   },
   "file_extension": ".py",
   "mimetype": "text/x-python",
   "name": "python",
   "nbconvert_exporter": "python",
   "pygments_lexer": "ipython2",
   "version": "2.7.6"
  }
 },
 "nbformat": 4,
 "nbformat_minor": 0
}
